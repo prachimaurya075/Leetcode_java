{
 "cells": [
  {
   "cell_type": "markdown",
   "id": "09ae161a-5085-479d-9023-1197753e9b6d",
   "metadata": {},
   "source": [
    "Tuple are use to store multiple values in a single variable\n",
    "tuple is one of the 4 built in data types \n",
    "it is used to store collections of data \n",
    "and the list , sets and dictionary \n",
    "it is in ordered\n",
    "it is immutable\n",
    "they cant be change once you create\n",
    "it ia container to store multiple data types like int flaot string and then no changes\n",
    "it is represnted by ()\n",
    "\n",
    " # properties \n",
    "1.ordered\n",
    "2. immutable - no add, no remove\n",
    "3.hetrogenous \n",
    "4.indexing\n",
    "5.itreable - loop can easily perform\n",
    "6.fixed in size\n",
    "7.duplicay alllowed\n",
    "\n",
    "\n",
    "\n",
    "\n"
   ]
  },
  {
   "cell_type": "code",
   "execution_count": 1,
   "id": "024bd2d6-3960-402b-b5eb-d07a3d56c45e",
   "metadata": {},
   "outputs": [
    {
     "name": "stdout",
     "output_type": "stream",
     "text": [
      "(10, 20, 30)\n"
     ]
    }
   ],
   "source": [
    "a =(10,20,30)\n",
    "print(a)\n"
   ]
  },
  {
   "cell_type": "code",
   "execution_count": 2,
   "id": "db22c07c-a649-465d-a099-a1651faf8f4e",
   "metadata": {},
   "outputs": [
    {
     "name": "stdout",
     "output_type": "stream",
     "text": [
      "<class 'tuple'>\n"
     ]
    }
   ],
   "source": [
    "print(type(a))"
   ]
  },
  {
   "cell_type": "code",
   "execution_count": 3,
   "id": "fbb9862c-ceb8-4bd8-be49-5fa9820351a7",
   "metadata": {},
   "outputs": [
    {
     "name": "stdout",
     "output_type": "stream",
     "text": [
      "<class 'tuple'>\n"
     ]
    }
   ],
   "source": [
    "tup = ()\n",
    "print(type(tup))"
   ]
  },
  {
   "cell_type": "markdown",
   "id": "893ac63d-39b6-4ce7-bb2e-bda4a8e4c73b",
   "metadata": {},
   "source": [
    "single element"
   ]
  },
  {
   "cell_type": "code",
   "execution_count": 4,
   "id": "2d6d25eb-9873-4a11-b79b-c0970d058f3a",
   "metadata": {},
   "outputs": [
    {
     "name": "stdout",
     "output_type": "stream",
     "text": [
      "5\n",
      "<class 'int'>\n"
     ]
    }
   ],
   "source": [
    "b = (5)\n",
    "print(b)\n",
    "print(type(b))"
   ]
  },
  {
   "cell_type": "code",
   "execution_count": 5,
   "id": "6ae4d149-50e0-4419-9cd2-169a2e71ce16",
   "metadata": {},
   "outputs": [
    {
     "name": "stdout",
     "output_type": "stream",
     "text": [
      "<class 'tuple'>\n"
     ]
    }
   ],
   "source": [
    "b =(5,)\n",
    "print(type(b))"
   ]
  },
  {
   "cell_type": "markdown",
   "id": "c77bed20-588d-4b0d-b84d-d3d979ec6bde",
   "metadata": {},
   "source": [
    "mixed dataype"
   ]
  },
  {
   "cell_type": "code",
   "execution_count": 6,
   "id": "344da45c-e6cb-41ac-93fe-ed34e1287ea4",
   "metadata": {},
   "outputs": [
    {
     "name": "stdout",
     "output_type": "stream",
     "text": [
      "(1, 2.6, 2, 5, 6.3, 'Prachi', True, False)\n"
     ]
    }
   ],
   "source": [
    "b = (1,2.6,2,5,6.3,\"Prachi\",True, False)\n",
    "print(b)"
   ]
  },
  {
   "cell_type": "raw",
   "id": "3bbf1c3a-3b87-4d72-b0b3-ee1d66c13cbc",
   "metadata": {},
   "source": [
    "nested tuple"
   ]
  },
  {
   "cell_type": "code",
   "execution_count": 7,
   "id": "d876f947-7a79-478e-8a39-e44124002747",
   "metadata": {},
   "outputs": [
    {
     "name": "stdout",
     "output_type": "stream",
     "text": [
      "(1, 2, 3, (40, 50, 90, 2.6))\n"
     ]
    }
   ],
   "source": [
    "a = (1,2,3,(40,50,90,2.6))\n",
    "print(a)"
   ]
  },
  {
   "cell_type": "code",
   "execution_count": 8,
   "id": "a570d148-f3e5-4c26-8a82-8a153b3e5a9a",
   "metadata": {},
   "outputs": [
    {
     "name": "stdout",
     "output_type": "stream",
     "text": [
      "<class 'tuple'>\n"
     ]
    }
   ],
   "source": [
    "print(type(a))"
   ]
  },
  {
   "cell_type": "markdown",
   "id": "5c43c726-eb30-4862-8ce5-cc544c36c5d6",
   "metadata": {},
   "source": [
    "tuple in list"
   ]
  },
  {
   "cell_type": "code",
   "execution_count": 9,
   "id": "3fec4437-c0a6-4a14-9733-b3156d4d1a1d",
   "metadata": {},
   "outputs": [
    {
     "name": "stdout",
     "output_type": "stream",
     "text": [
      "(1, 2, 3, 4, 56, [78, 9], [45, 65, 78, 23, 96, 78])\n"
     ]
    }
   ],
   "source": [
    "a = (1,2,3,4,56,[78,9],[45,65,78,23,96,78])\n",
    "print(a)"
   ]
  },
  {
   "cell_type": "markdown",
   "id": "efb306d5-75f1-4fb7-80d8-1aa2298201ed",
   "metadata": {},
   "source": [
    "tuple constructor"
   ]
  },
  {
   "cell_type": "code",
   "execution_count": 10,
   "id": "c97daf95-4b90-4c6e-a5fd-859eb25f5943",
   "metadata": {},
   "outputs": [
    {
     "name": "stdout",
     "output_type": "stream",
     "text": [
      "<class 'tuple'>\n",
      "()\n"
     ]
    }
   ],
   "source": [
    "empty = tuple()\n",
    "print(type(empty))\n",
    "print(empty)"
   ]
  },
  {
   "cell_type": "markdown",
   "id": "cac89a47-df4e-42f5-8a97-afe9ff2a40a3",
   "metadata": {},
   "source": [
    "# coverting list into tuple"
   ]
  },
  {
   "cell_type": "code",
   "execution_count": 12,
   "id": "a1f8e20e-2efb-41c4-8897-6e9623240b10",
   "metadata": {},
   "outputs": [
    {
     "name": "stdout",
     "output_type": "stream",
     "text": [
      "(1, 2, 3, 45, 6, 78, 9)\n",
      "<class 'tuple'>\n"
     ]
    }
   ],
   "source": [
    "list = [1,2,3,45,6,78,9]\n",
    "number = tuple(list)\n",
    "print(number)\n",
    "print(type(number))"
   ]
  },
  {
   "cell_type": "code",
   "execution_count": 13,
   "id": "a9f20bc6-1aa3-4541-baa6-bea61a09112e",
   "metadata": {},
   "outputs": [
    {
     "name": "stdout",
     "output_type": "stream",
     "text": [
      "('H', 'e', 'l', 'l', 'o')\n",
      "<class 'tuple'>\n"
     ]
    }
   ],
   "source": [
    "string = \"Hello\"\n",
    "str = tuple(string)\n",
    "print(str)\n",
    "print(type(str))"
   ]
  },
  {
   "cell_type": "code",
   "execution_count": 17,
   "id": "a23123a4-f2aa-408c-830d-a2e8613edc23",
   "metadata": {},
   "outputs": [
    {
     "name": "stdout",
     "output_type": "stream",
     "text": [
      "1\n"
     ]
    }
   ],
   "source": [
    "tup = (4,56,7,89,4,56,4)\n",
    "new_tup =tup.index(56)\n",
    "print(new_tup)"
   ]
  },
  {
   "cell_type": "code",
   "execution_count": 18,
   "id": "7f341765-d6b8-4408-bbd1-122600999a13",
   "metadata": {},
   "outputs": [
    {
     "name": "stdout",
     "output_type": "stream",
     "text": [
      "2\n"
     ]
    }
   ],
   "source": [
    "new_tup = tup.count(56)\n",
    "print(new_tup)"
   ]
  },
  {
   "cell_type": "markdown",
   "id": "f9a1c556-4b99-407b-ac34-e5e29abb3a45",
   "metadata": {},
   "source": [
    "Two method - index and count"
   ]
  },
  {
   "cell_type": "markdown",
   "id": "265ebde8-0951-4b6f-8430-a974ffad0615",
   "metadata": {},
   "source": [
    "# converting dictonaries into tuple- only keys will print not values\n"
   ]
  },
  {
   "cell_type": "code",
   "execution_count": 19,
   "id": "2374f74c-626e-4c7e-a592-5e4a16928830",
   "metadata": {},
   "outputs": [
    {
     "name": "stdout",
     "output_type": "stream",
     "text": [
      "{'a': 1, 'b': 2, 'c': 3}\n",
      "<class 'dict'>\n"
     ]
    }
   ],
   "source": [
    "dict = {'a':1,'b':2,'c':3}\n",
    "print(dict)\n",
    "print(type(dict))"
   ]
  },
  {
   "cell_type": "code",
   "execution_count": 20,
   "id": "78a7df9d-555e-4cf6-baea-4ee92e13974a",
   "metadata": {},
   "outputs": [
    {
     "name": "stdout",
     "output_type": "stream",
     "text": [
      "('a', 'b', 'c')\n",
      "<class 'tuple'>\n"
     ]
    }
   ],
   "source": [
    "new_dict = tuple(dict)\n",
    "print(new_dict)\n",
    "print(type(new_dict))"
   ]
  },
  {
   "cell_type": "markdown",
   "id": "e0577b79-9a4e-41e7-9f24-491451a42f62",
   "metadata": {},
   "source": [
    " # converting a set in to tuple"
   ]
  },
  {
   "cell_type": "code",
   "execution_count": 21,
   "id": "c4ee8465-16c6-4de5-b803-154058b649c5",
   "metadata": {},
   "outputs": [
    {
     "name": "stdout",
     "output_type": "stream",
     "text": [
      "{1, 2, 3, 4, 5}\n",
      "<class 'set'>\n"
     ]
    }
   ],
   "source": [
    "set = {1,2,3,4,5}\n",
    "print(set)\n",
    "print(type(set))"
   ]
  },
  {
   "cell_type": "code",
   "execution_count": 22,
   "id": "97f1988a-0484-4b8d-a3f9-eba8da860594",
   "metadata": {},
   "outputs": [
    {
     "name": "stdout",
     "output_type": "stream",
     "text": [
      "{1, 2, 3, 4, 5}\n"
     ]
    }
   ],
   "source": [
    "print(set)"
   ]
  },
  {
   "cell_type": "code",
   "execution_count": 23,
   "id": "1a2f3c87-922b-4b82-9ab3-7ab1ef627c47",
   "metadata": {},
   "outputs": [
    {
     "name": "stdout",
     "output_type": "stream",
     "text": [
      "<class 'tuple'>\n",
      "(1, 2, 3, 4, 5)\n"
     ]
    }
   ],
   "source": [
    "new_set = tuple(set)\n",
    "print(type(new_set))\n",
    "print(new_set)"
   ]
  },
  {
   "cell_type": "code",
   "execution_count": 24,
   "id": "7dfe7539-b77e-4f1a-933e-e2292d037b77",
   "metadata": {},
   "outputs": [
    {
     "name": "stdout",
     "output_type": "stream",
     "text": [
      "(1, 2, 3, 4)\n"
     ]
    }
   ],
   "source": [
    "my_list =[1,2,3,4]\n",
    "new_list = tuple(my_list)\n",
    "print(new_list)"
   ]
  },
  {
   "cell_type": "code",
   "execution_count": 26,
   "id": "dfa84db4-0168-4d55-be75-f1eb17d82da8",
   "metadata": {},
   "outputs": [
    {
     "name": "stdout",
     "output_type": "stream",
     "text": [
      "()\n"
     ]
    }
   ],
   "source": [
    "empty_tuple = tuple()\n",
    "print(empty_tuple)"
   ]
  },
  {
   "cell_type": "raw",
   "id": "eb0ebc34-4be6-4fc5-8065-976ffce41dc4",
   "metadata": {},
   "source": [
    "Indexing"
   ]
  },
  {
   "cell_type": "code",
   "execution_count": 27,
   "id": "21d1c3c6-6e97-4fc6-a452-c2aca5564709",
   "metadata": {},
   "outputs": [
    {
     "name": "stdout",
     "output_type": "stream",
     "text": [
      "1\n",
      "89\n"
     ]
    }
   ],
   "source": [
    "tup = (1,2,3,4,66,7,89)\n",
    "print(tup[0])\n",
    "print(tup[-1])"
   ]
  },
  {
   "cell_type": "code",
   "execution_count": 28,
   "id": "5c380e72-707e-47c7-835a-e9521a79e57a",
   "metadata": {},
   "outputs": [
    {
     "name": "stdout",
     "output_type": "stream",
     "text": [
      "(1, 2, 3, 4)\n"
     ]
    }
   ],
   "source": [
    "tup = (1,2,3,4,66,7,89)\n",
    "print(tup[:4])"
   ]
  },
  {
   "cell_type": "code",
   "execution_count": 29,
   "id": "22a79ce5-2893-416a-9b79-ed00117b2971",
   "metadata": {},
   "outputs": [
    {
     "name": "stdout",
     "output_type": "stream",
     "text": [
      "(1, 2, 3, 4, 66, 7, 89)\n"
     ]
    }
   ],
   "source": [
    "tup = (1,2,3,4,66,7,89)\n",
    "print(tup[0:])"
   ]
  },
  {
   "cell_type": "code",
   "execution_count": 30,
   "id": "fa501c7f-f21d-44e6-8efb-84e6491a8900",
   "metadata": {},
   "outputs": [
    {
     "name": "stdout",
     "output_type": "stream",
     "text": [
      "()\n"
     ]
    }
   ],
   "source": [
    "tup = (1,2,3,4,66,7,89)\n",
    "print(tup[-1:-4])"
   ]
  },
  {
   "cell_type": "code",
   "execution_count": 31,
   "id": "9b845de6-a7de-4450-80e0-c02693021f6f",
   "metadata": {},
   "outputs": [
    {
     "name": "stdout",
     "output_type": "stream",
     "text": [
      "89\n",
      "66\n"
     ]
    }
   ],
   "source": [
    "tup = (1,2,3,4,66,7,89)\n",
    "print(tup[-1])\n",
    "print(tup[-3])"
   ]
  },
  {
   "cell_type": "code",
   "execution_count": 32,
   "id": "487f4f4b-ec59-4ded-9ca4-b446a41c5fef",
   "metadata": {},
   "outputs": [
    {
     "name": "stdout",
     "output_type": "stream",
     "text": [
      "(1, 3, 66, 89)\n"
     ]
    }
   ],
   "source": [
    "print(tup[::2])"
   ]
  },
  {
   "cell_type": "markdown",
   "id": "1ce0a34a-890b-448e-bf93-fafb9a8e2961",
   "metadata": {},
   "source": [
    "slicing negative index"
   ]
  },
  {
   "cell_type": "code",
   "execution_count": 33,
   "id": "e31a5f5b-98cb-44ab-acf8-844557a8cfba",
   "metadata": {},
   "outputs": [
    {
     "name": "stdout",
     "output_type": "stream",
     "text": [
      "9\n"
     ]
    }
   ],
   "source": [
    "tup =[1,2,3,4,5,6,7,8,9]\n",
    "print(tup[-1])"
   ]
  },
  {
   "cell_type": "code",
   "execution_count": 34,
   "id": "063867fa-0b06-4b9a-8e55-84efbf42c2a4",
   "metadata": {},
   "outputs": [
    {
     "name": "stdout",
     "output_type": "stream",
     "text": [
      "[7, 8, 9]\n"
     ]
    }
   ],
   "source": [
    "print(tup[-3:])"
   ]
  },
  {
   "cell_type": "code",
   "execution_count": 37,
   "id": "b478748a-7622-4e64-9e92-dce6554ad4f7",
   "metadata": {},
   "outputs": [
    {
     "name": "stdout",
     "output_type": "stream",
     "text": [
      "[9, 8, 7, 6, 5, 4, 3, 2, 1]\n"
     ]
    }
   ],
   "source": [
    "tup =[1,2,3,4,5,6,7,8,9]\n",
    "tup.reverse()\n",
    "print(tup)"
   ]
  },
  {
   "cell_type": "code",
   "execution_count": 38,
   "id": "fbe89aa0-82e2-41bc-955d-ed2109849f27",
   "metadata": {},
   "outputs": [
    {
     "name": "stdout",
     "output_type": "stream",
     "text": [
      "[1, 2, 3, 4, 5, 6, 7, 8]\n"
     ]
    }
   ],
   "source": [
    "t = [1,2,3,4,5,6,7,8]\n",
    "print(t[::])"
   ]
  },
  {
   "cell_type": "code",
   "execution_count": 39,
   "id": "d3cfc656-4a19-496e-ad8e-35ac594dc8ab",
   "metadata": {},
   "outputs": [
    {
     "name": "stdout",
     "output_type": "stream",
     "text": [
      "[4, 5, 6, 7, 8]\n"
     ]
    }
   ],
   "source": [
    "print(t[3:])"
   ]
  },
  {
   "cell_type": "code",
   "execution_count": 40,
   "id": "9edbf343-67ed-46ff-80f8-191fd07d183c",
   "metadata": {},
   "outputs": [
    {
     "name": "stdout",
     "output_type": "stream",
     "text": [
      "[1, 2, 3, 4]\n"
     ]
    }
   ],
   "source": [
    "print(t[:4])"
   ]
  },
  {
   "cell_type": "code",
   "execution_count": 41,
   "id": "9e78a15c-2927-4c2d-846d-c6f2a3eff24b",
   "metadata": {},
   "outputs": [
    {
     "name": "stdout",
     "output_type": "stream",
     "text": [
      "[]\n"
     ]
    }
   ],
   "source": [
    "print(t[-2:-5])"
   ]
  },
  {
   "cell_type": "code",
   "execution_count": 43,
   "id": "f97b0e3c-5bb5-4939-bfec-b322981f1f1b",
   "metadata": {},
   "outputs": [
    {
     "name": "stdout",
     "output_type": "stream",
     "text": [
      "(12, 1, 5, 46, 7, 8, 4, 4)\n"
     ]
    }
   ],
   "source": [
    "a = (12,1,5,46,7,8, 4 ,4 )\n",
    "print(a)"
   ]
  },
  {
   "cell_type": "markdown",
   "id": "a5eae5e1-d9a3-4f70-8a9a-b888e359fbae",
   "metadata": {},
   "source": [
    "# tuple "
   ]
  },
  {
   "cell_type": "markdown",
   "id": "20a7e35d-d4ca-491f-a244-ed45dcdaefb5",
   "metadata": {},
   "source": [
    " # once a tuple is created you cannot change its value tuples are immutable"
   ]
  },
  {
   "cell_type": "code",
   "execution_count": 57,
   "id": "65fe70ae-1cdb-4fa9-bfa7-d8e9a456ab50",
   "metadata": {},
   "outputs": [
    {
     "ename": "TypeError",
     "evalue": "'list' object is not callable",
     "output_type": "error",
     "traceback": [
      "\u001b[1;31m---------------------------------------------------------------------------\u001b[0m",
      "\u001b[1;31mTypeError\u001b[0m                                 Traceback (most recent call last)",
      "Cell \u001b[1;32mIn[57], line 2\u001b[0m\n\u001b[0;32m      1\u001b[0m x \u001b[38;5;241m=\u001b[39m (\u001b[38;5;241m12\u001b[39m,\u001b[38;5;241m4\u001b[39m,\u001b[38;5;241m5\u001b[39m,\u001b[38;5;241m7\u001b[39m,\u001b[38;5;241m8\u001b[39m,\u001b[38;5;241m12\u001b[39m,\u001b[38;5;241m45\u001b[39m,\u001b[38;5;241m1\u001b[39m)\n\u001b[1;32m----> 2\u001b[0m y \u001b[38;5;241m=\u001b[39m \u001b[38;5;28mlist\u001b[39m(x)\n",
      "\u001b[1;31mTypeError\u001b[0m: 'list' object is not callable"
     ]
    }
   ],
   "source": [
    "x = (12,4,5,7,8,12,45,1)\n",
    "y = list(x)"
   ]
  },
  {
   "cell_type": "code",
   "execution_count": 58,
   "id": "8e8d8c83-ad07-4e4c-aba5-458c7205bf75",
   "metadata": {},
   "outputs": [
    {
     "name": "stdout",
     "output_type": "stream",
     "text": [
      "('Pyhton', 'java', 'html', 'css', 'code')\n"
     ]
    }
   ],
   "source": [
    "tup1 = (\"Pyhton\",\"java\",\"html\",\"css\")\n",
    "y = (\"code\",)\n",
    "tup1+=y\n",
    "print(tup1)"
   ]
  },
  {
   "cell_type": "code",
   "execution_count": 59,
   "id": "3321c19e-7772-46bf-be9a-48156e845421",
   "metadata": {},
   "outputs": [
    {
     "ename": "TypeError",
     "evalue": "'list' object is not callable",
     "output_type": "error",
     "traceback": [
      "\u001b[1;31m---------------------------------------------------------------------------\u001b[0m",
      "\u001b[1;31mTypeError\u001b[0m                                 Traceback (most recent call last)",
      "Cell \u001b[1;32mIn[59], line 3\u001b[0m\n\u001b[0;32m      1\u001b[0m fruits \u001b[38;5;241m=\u001b[39m(\u001b[38;5;124m\"\u001b[39m\u001b[38;5;124mapple\u001b[39m\u001b[38;5;124m\"\u001b[39m, \u001b[38;5;124m\"\u001b[39m\u001b[38;5;124mbanana\u001b[39m\u001b[38;5;124m\"\u001b[39m,\u001b[38;5;124m\"\u001b[39m\u001b[38;5;124morange\u001b[39m\u001b[38;5;124m\"\u001b[39m)\n\u001b[1;32m----> 3\u001b[0m fruits_list  \u001b[38;5;241m=\u001b[39m \u001b[38;5;28mlist\u001b[39m(fruits)\n\u001b[0;32m      4\u001b[0m \u001b[38;5;28mprint\u001b[39m(fruits_list)\n",
      "\u001b[1;31mTypeError\u001b[0m: 'list' object is not callable"
     ]
    }
   ],
   "source": [
    "fruits =(\"apple\", \"banana\",\"orange\")\n",
    "\n",
    "fruits_list  = list(fruits)\n",
    "print(fruits_list)"
   ]
  },
  {
   "cell_type": "code",
   "execution_count": 60,
   "id": "6d8192e6-b0ef-4cd4-b71d-afc1e6ef6049",
   "metadata": {},
   "outputs": [
    {
     "name": "stdout",
     "output_type": "stream",
     "text": [
      "a\n",
      "b\n",
      "c\n"
     ]
    }
   ],
   "source": [
    "thistuple = (\"a\",\"b\",\"c\")\n",
    "for x in thistuple:\n",
    "    print(x)"
   ]
  },
  {
   "cell_type": "markdown",
   "id": "c6417ab3-6f83-4233-8089-005676c78301",
   "metadata": {},
   "source": [
    " # join two tuples"
   ]
  },
  {
   "cell_type": "code",
   "execution_count": 64,
   "id": "bfd00810-4ab2-4356-9e8e-29d625ebc395",
   "metadata": {},
   "outputs": [
    {
     "name": "stdout",
     "output_type": "stream",
     "text": [
      "[1, 2, 3, 4, 5, 6, 7, 8, 9, 10]\n",
      "[1, 2, 3, 4, 5, 1, 2, 3, 4, 5]\n"
     ]
    }
   ],
   "source": [
    "tup1 = [1,2,3,4,5]\n",
    "tup2 = [6,7,8,9,10]\n",
    "tup3 = tup1+tup2\n",
    "print(tup3)\n",
    "mytup = tup1*2\n",
    "print(mytup)\n",
    "\n",
    "\n",
    "\n",
    "\n",
    "\n",
    "\n",
    "\n",
    "\n",
    "\n",
    "\n",
    "\n",
    "\n"
   ]
  },
  {
   "cell_type": "code",
   "execution_count": null,
   "id": "630b20b2-e106-41c3-b5cd-d6d79dbfd909",
   "metadata": {},
   "outputs": [],
   "source": []
  }
 ],
 "metadata": {
  "kernelspec": {
   "display_name": "Python 3 (ipykernel)",
   "language": "python",
   "name": "python3"
  },
  "language_info": {
   "codemirror_mode": {
    "name": "ipython",
    "version": 3
   },
   "file_extension": ".py",
   "mimetype": "text/x-python",
   "name": "python",
   "nbconvert_exporter": "python",
   "pygments_lexer": "ipython3",
   "version": "3.12.4"
  }
 },
 "nbformat": 4,
 "nbformat_minor": 5
}
